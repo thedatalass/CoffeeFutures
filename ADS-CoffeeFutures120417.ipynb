{
 "cells": [
  {
   "cell_type": "code",
   "execution_count": 1,
   "metadata": {
    "collapsed": true
   },
   "outputs": [],
   "source": [
    "#Predicting Coffee Futures by Laura Kahn \n",
    "#INFOI590 | Applied Data Science | Fall 2017 | Final Report Documentation\n",
    "\n",
    "#Hypothesis - Opening, Low and High Coffee Futures Prices can be used to predict daily Closing Price."
   ]
  },
  {
   "cell_type": "code",
   "execution_count": 1,
   "metadata": {
    "collapsed": true
   },
   "outputs": [],
   "source": [
    "#Import libraries\n",
    "import pandas as pd\n",
    "import numpy as np\n",
    "import matplotlib.pyplot as plt\n",
    "import seaborn as sns\n",
    "sns.set_style('white')\n",
    "%matplotlib inline"
   ]
  },
  {
   "cell_type": "code",
   "execution_count": 2,
   "metadata": {
    "collapsed": false
   },
   "outputs": [
    {
     "data": {
      "text/html": [
       "<div>\n",
       "<table border=\"1\" class=\"dataframe\">\n",
       "  <thead>\n",
       "    <tr style=\"text-align: right;\">\n",
       "      <th></th>\n",
       "      <th>Date</th>\n",
       "      <th>Closing</th>\n",
       "      <th>Open</th>\n",
       "      <th>High</th>\n",
       "      <th>Low</th>\n",
       "    </tr>\n",
       "  </thead>\n",
       "  <tbody>\n",
       "    <tr>\n",
       "      <th>0</th>\n",
       "      <td>15-Nov-17</td>\n",
       "      <td>126.80</td>\n",
       "      <td>126.85</td>\n",
       "      <td>127.53</td>\n",
       "      <td>126.28</td>\n",
       "    </tr>\n",
       "    <tr>\n",
       "      <th>1</th>\n",
       "      <td>14-Nov-17</td>\n",
       "      <td>127.05</td>\n",
       "      <td>127.55</td>\n",
       "      <td>129.00</td>\n",
       "      <td>124.25</td>\n",
       "    </tr>\n",
       "    <tr>\n",
       "      <th>2</th>\n",
       "      <td>13-Nov-17</td>\n",
       "      <td>127.60</td>\n",
       "      <td>127.50</td>\n",
       "      <td>128.15</td>\n",
       "      <td>126.65</td>\n",
       "    </tr>\n",
       "    <tr>\n",
       "      <th>3</th>\n",
       "      <td>10-Nov-17</td>\n",
       "      <td>127.55</td>\n",
       "      <td>126.05</td>\n",
       "      <td>128.35</td>\n",
       "      <td>125.50</td>\n",
       "    </tr>\n",
       "    <tr>\n",
       "      <th>4</th>\n",
       "      <td>9-Nov-17</td>\n",
       "      <td>126.40</td>\n",
       "      <td>125.55</td>\n",
       "      <td>127.40</td>\n",
       "      <td>125.00</td>\n",
       "    </tr>\n",
       "    <tr>\n",
       "      <th>5</th>\n",
       "      <td>8-Nov-17</td>\n",
       "      <td>125.75</td>\n",
       "      <td>125.05</td>\n",
       "      <td>125.90</td>\n",
       "      <td>124.20</td>\n",
       "    </tr>\n",
       "    <tr>\n",
       "      <th>6</th>\n",
       "      <td>7-Nov-17</td>\n",
       "      <td>124.70</td>\n",
       "      <td>125.50</td>\n",
       "      <td>125.80</td>\n",
       "      <td>123.10</td>\n",
       "    </tr>\n",
       "    <tr>\n",
       "      <th>7</th>\n",
       "      <td>6-Nov-17</td>\n",
       "      <td>125.55</td>\n",
       "      <td>123.95</td>\n",
       "      <td>126.40</td>\n",
       "      <td>122.25</td>\n",
       "    </tr>\n",
       "    <tr>\n",
       "      <th>8</th>\n",
       "      <td>3-Nov-17</td>\n",
       "      <td>123.95</td>\n",
       "      <td>127.15</td>\n",
       "      <td>127.40</td>\n",
       "      <td>126.25</td>\n",
       "    </tr>\n",
       "    <tr>\n",
       "      <th>9</th>\n",
       "      <td>2-Nov-17</td>\n",
       "      <td>126.40</td>\n",
       "      <td>123.35</td>\n",
       "      <td>127.60</td>\n",
       "      <td>122.55</td>\n",
       "    </tr>\n",
       "    <tr>\n",
       "      <th>10</th>\n",
       "      <td>1-Nov-17</td>\n",
       "      <td>122.95</td>\n",
       "      <td>124.70</td>\n",
       "      <td>126.20</td>\n",
       "      <td>121.20</td>\n",
       "    </tr>\n",
       "    <tr>\n",
       "      <th>11</th>\n",
       "      <td>30-Oct-17</td>\n",
       "      <td>125.90</td>\n",
       "      <td>127.00</td>\n",
       "      <td>127.75</td>\n",
       "      <td>125.05</td>\n",
       "    </tr>\n",
       "    <tr>\n",
       "      <th>12</th>\n",
       "      <td>27-Oct-17</td>\n",
       "      <td>126.60</td>\n",
       "      <td>124.00</td>\n",
       "      <td>127.50</td>\n",
       "      <td>123.70</td>\n",
       "    </tr>\n",
       "    <tr>\n",
       "      <th>13</th>\n",
       "      <td>26-Oct-17</td>\n",
       "      <td>124.55</td>\n",
       "      <td>124.40</td>\n",
       "      <td>124.90</td>\n",
       "      <td>123.00</td>\n",
       "    </tr>\n",
       "    <tr>\n",
       "      <th>14</th>\n",
       "      <td>25-Oct-17</td>\n",
       "      <td>124.72</td>\n",
       "      <td>123.45</td>\n",
       "      <td>125.25</td>\n",
       "      <td>123.15</td>\n",
       "    </tr>\n",
       "    <tr>\n",
       "      <th>15</th>\n",
       "      <td>24-Oct-17</td>\n",
       "      <td>123.20</td>\n",
       "      <td>124.25</td>\n",
       "      <td>124.75</td>\n",
       "      <td>122.85</td>\n",
       "    </tr>\n",
       "    <tr>\n",
       "      <th>16</th>\n",
       "      <td>23-Oct-17</td>\n",
       "      <td>124.35</td>\n",
       "      <td>125.10</td>\n",
       "      <td>126.50</td>\n",
       "      <td>123.85</td>\n",
       "    </tr>\n",
       "    <tr>\n",
       "      <th>17</th>\n",
       "      <td>20-Oct-17</td>\n",
       "      <td>125.25</td>\n",
       "      <td>126.95</td>\n",
       "      <td>127.95</td>\n",
       "      <td>124.00</td>\n",
       "    </tr>\n",
       "    <tr>\n",
       "      <th>18</th>\n",
       "      <td>19-Oct-17</td>\n",
       "      <td>126.85</td>\n",
       "      <td>124.75</td>\n",
       "      <td>128.05</td>\n",
       "      <td>124.50</td>\n",
       "    </tr>\n",
       "  </tbody>\n",
       "</table>\n",
       "</div>"
      ],
      "text/plain": [
       "         Date  Closing    Open    High     Low\n",
       "0   15-Nov-17   126.80  126.85  127.53  126.28\n",
       "1   14-Nov-17   127.05  127.55  129.00  124.25\n",
       "2   13-Nov-17   127.60  127.50  128.15  126.65\n",
       "3   10-Nov-17   127.55  126.05  128.35  125.50\n",
       "4    9-Nov-17   126.40  125.55  127.40  125.00\n",
       "5    8-Nov-17   125.75  125.05  125.90  124.20\n",
       "6    7-Nov-17   124.70  125.50  125.80  123.10\n",
       "7    6-Nov-17   125.55  123.95  126.40  122.25\n",
       "8    3-Nov-17   123.95  127.15  127.40  126.25\n",
       "9    2-Nov-17   126.40  123.35  127.60  122.55\n",
       "10   1-Nov-17   122.95  124.70  126.20  121.20\n",
       "11  30-Oct-17   125.90  127.00  127.75  125.05\n",
       "12  27-Oct-17   126.60  124.00  127.50  123.70\n",
       "13  26-Oct-17   124.55  124.40  124.90  123.00\n",
       "14  25-Oct-17   124.72  123.45  125.25  123.15\n",
       "15  24-Oct-17   123.20  124.25  124.75  122.85\n",
       "16  23-Oct-17   124.35  125.10  126.50  123.85\n",
       "17  20-Oct-17   125.25  126.95  127.95  124.00\n",
       "18  19-Oct-17   126.85  124.75  128.05  124.50"
      ]
     },
     "execution_count": 2,
     "metadata": {},
     "output_type": "execute_result"
    }
   ],
   "source": [
    "#Read the CSV into a data frame\n",
    "#Source data from: https://www.investing.com/commodities/us-coffee-c from January 1, 2010 - November 15, 2017\n",
    "\n",
    "df = pd.read_csv('KC-CoffeeFutures2.csv')\n",
    "df.head(19)"
   ]
  },
  {
   "cell_type": "code",
   "execution_count": 4,
   "metadata": {
    "collapsed": false
   },
   "outputs": [
    {
     "data": {
      "text/html": [
       "<div>\n",
       "<table border=\"1\" class=\"dataframe\">\n",
       "  <thead>\n",
       "    <tr style=\"text-align: right;\">\n",
       "      <th></th>\n",
       "      <th>Closing</th>\n",
       "      <th>Open</th>\n",
       "      <th>High</th>\n",
       "      <th>Low</th>\n",
       "    </tr>\n",
       "  </thead>\n",
       "  <tbody>\n",
       "    <tr>\n",
       "      <th>count</th>\n",
       "      <td>2805.000000</td>\n",
       "      <td>2805.000000</td>\n",
       "      <td>2805.000000</td>\n",
       "      <td>2805.000000</td>\n",
       "    </tr>\n",
       "    <tr>\n",
       "      <th>mean</th>\n",
       "      <td>169.241907</td>\n",
       "      <td>169.447355</td>\n",
       "      <td>171.432980</td>\n",
       "      <td>167.379430</td>\n",
       "    </tr>\n",
       "    <tr>\n",
       "      <th>std</th>\n",
       "      <td>48.736788</td>\n",
       "      <td>48.758244</td>\n",
       "      <td>49.428461</td>\n",
       "      <td>48.087293</td>\n",
       "    </tr>\n",
       "    <tr>\n",
       "      <th>min</th>\n",
       "      <td>101.500000</td>\n",
       "      <td>101.500000</td>\n",
       "      <td>103.750000</td>\n",
       "      <td>100.950000</td>\n",
       "    </tr>\n",
       "    <tr>\n",
       "      <th>25%</th>\n",
       "      <td>131.550000</td>\n",
       "      <td>131.800000</td>\n",
       "      <td>133.000000</td>\n",
       "      <td>130.050000</td>\n",
       "    </tr>\n",
       "    <tr>\n",
       "      <th>50%</th>\n",
       "      <td>153.700000</td>\n",
       "      <td>154.150000</td>\n",
       "      <td>156.400000</td>\n",
       "      <td>151.850000</td>\n",
       "    </tr>\n",
       "    <tr>\n",
       "      <th>75%</th>\n",
       "      <td>196.700000</td>\n",
       "      <td>197.400000</td>\n",
       "      <td>200.650000</td>\n",
       "      <td>193.700000</td>\n",
       "    </tr>\n",
       "    <tr>\n",
       "      <th>max</th>\n",
       "      <td>304.900000</td>\n",
       "      <td>305.300000</td>\n",
       "      <td>306.250000</td>\n",
       "      <td>304.000000</td>\n",
       "    </tr>\n",
       "  </tbody>\n",
       "</table>\n",
       "</div>"
      ],
      "text/plain": [
       "           Closing         Open         High          Low\n",
       "count  2805.000000  2805.000000  2805.000000  2805.000000\n",
       "mean    169.241907   169.447355   171.432980   167.379430\n",
       "std      48.736788    48.758244    49.428461    48.087293\n",
       "min     101.500000   101.500000   103.750000   100.950000\n",
       "25%     131.550000   131.800000   133.000000   130.050000\n",
       "50%     153.700000   154.150000   156.400000   151.850000\n",
       "75%     196.700000   197.400000   200.650000   193.700000\n",
       "max     304.900000   305.300000   306.250000   304.000000"
      ]
     },
     "execution_count": 4,
     "metadata": {},
     "output_type": "execute_result"
    }
   ],
   "source": [
    "#Exploratory data analysis\n",
    "#Let's start by looking at the summary statistics for each variable in the data.\n",
    "df.describe()\n",
    "\n",
    "#There are 2805 days of daily trading prices for the coffee futures. All prices are in US$\n",
    "#Closing Price ranges from 101.5-304.9.\n",
    "#Open Price ranges from 101.5-305.3.\n",
    "#High Price ranges from 103.75-306.25.\n",
    "#Low Price ranges from 100.95-304."
   ]
  },
  {
   "cell_type": "code",
   "execution_count": 4,
   "metadata": {
    "collapsed": false
   },
   "outputs": [
    {
     "name": "stderr",
     "output_type": "stream",
     "text": [
      "C:\\Anaconda3\\lib\\site-packages\\matplotlib\\__init__.py:830: MatplotlibDeprecationWarning: axes.color_cycle is deprecated and replaced with axes.prop_cycle; please use the latter.\n",
      "  mplDeprecation)\n"
     ]
    },
    {
     "data": {
      "text/plain": [
       "(array([  50.,  100.,  150.,  200.,  250.,  300.,  350.]),\n",
       " <a list of 7 Text yticklabel objects>)"
      ]
     },
     "execution_count": 4,
     "metadata": {},
     "output_type": "execute_result"
    },
    {
     "data": {
      "image/png": "[encoded data removed]",
      "text/plain": [
       "<matplotlib.figure.Figure at 0xcff7a58>"
      ]
     },
     "metadata": {},
     "output_type": "display_data"
    }
   ],
   "source": [
    "#Next, let's do a box plot to visualize the summary statistics.\n",
    "df.plot(kind='box')\n",
    "plt.title('Box Plot of Coffee Futures, 2010-2017',fontsize=16)\n",
    "plt.xlabel('Daily Price in USD',fontsize=14)\n",
    "plt.ylabel('Futures in US$',fontsize=14)\n",
    "plt.xticks(fontsize=12,rotation=45)\n",
    "plt.yticks(fontsize=12)"
   ]
  },
  {
   "cell_type": "code",
   "execution_count": 5,
   "metadata": {
    "collapsed": false
   },
   "outputs": [
    {
     "name": "stderr",
     "output_type": "stream",
     "text": [
      "C:\\Anaconda3\\lib\\site-packages\\matplotlib\\__init__.py:830: MatplotlibDeprecationWarning: axes.color_cycle is deprecated and replaced with axes.prop_cycle; please use the latter.\n",
      "  mplDeprecation)\n"
     ]
    },
    {
     "data": {
      "text/plain": [
       "(array([  50.,  100.,  150.,  200.,  250.,  300.,  350.]),\n",
       " <a list of 7 Text yticklabel objects>)"
      ]
     },
     "execution_count": 5,
     "metadata": {},
     "output_type": "execute_result"
    },
    {
     "data": {
      "image/png": "[encoded data removed]",
      "text/plain": [
       "<matplotlib.figure.Figure at 0xd1bb080>"
      ]
     },
     "metadata": {},
     "output_type": "display_data"
    }
   ],
   "source": [
    "#Let's look at a plot of all columns with labels\n",
    "df.plot();\n",
    "plt.xlabel(\"Number of Trading Days\",fontsize=14)\n",
    "plt.ylabel(\"Price in USD\", fontsize=14)\n",
    "plt.title(\"Coffee Futures 2010-2017\",fontsize=16)\n",
    "plt.xticks(fontsize=12,rotation=45)\n",
    "plt.yticks(fontsize=12)\n",
    "\n",
    "#From the visualization, a general fluctuating trend can be seen. There is very small differences (decimal points)\n",
    "# from the Open, Low, High and Closing Prices."
   ]
  },
  {
   "cell_type": "code",
   "execution_count": 6,
   "metadata": {
    "collapsed": false
   },
   "outputs": [
    {
     "data": {
      "text/plain": [
       "(array([  75.,  100.,  125.,  150.,  175.,  200.,  225.,  250.,  275.,\n",
       "         300.,  325.]), <a list of 11 Text yticklabel objects>)"
      ]
     },
     "execution_count": 6,
     "metadata": {},
     "output_type": "execute_result"
    },
    {
     "data": {
      "image/png": "[encoded data removed]",
      "text/plain": [
       "<matplotlib.figure.Figure at 0xd40c198>"
      ]
     },
     "metadata": {},
     "output_type": "display_data"
    }
   ],
   "source": [
    "#Let's isolate the ClosingPrice data\n",
    "df.plot(x='Date', y='Closing', color = 'darkblue')\n",
    "plt.ylabel(\"Closing Price in USD\", fontsize=14)\n",
    "plt.xlabel(\"Date\", fontsize=14)\n",
    "plt.title(\"Coffee Futures Closing Price over Time\",fontsize=16)\n",
    "plt.xticks(fontsize=12,rotation=45)\n",
    "plt.yticks(fontsize=12)\n",
    "\n",
    "#ClosingPrice follows the same general shape as \"Open\", \"High\" and \"Low\" prices."
   ]
  },
  {
   "cell_type": "code",
   "execution_count": 8,
   "metadata": {
    "collapsed": false
   },
   "outputs": [
    {
     "data": {
      "text/plain": [
       "(array([ 0.   ,  0.002,  0.004,  0.006,  0.008,  0.01 ,  0.012,  0.014,\n",
       "         0.016]), <a list of 9 Text yticklabel objects>)"
      ]
     },
     "execution_count": 8,
     "metadata": {},
     "output_type": "execute_result"
    },
    {
     "data": {
      "image/png": "[encoded data removed]",
      "text/plain": [
       "<matplotlib.figure.Figure at 0xd216cc0>"
      ]
     },
     "metadata": {},
     "output_type": "display_data"
    }
   ],
   "source": [
    "#Let's look at a histogram and Kernel density estimate for each variable, \"ClosingPrice\", \"Open\", \"High\" and \"Low\"\n",
    "#To see how the data is distriuted.\n",
    "df['Closing'].hist(bins=20, normed=True, color='darkblue')\n",
    "df['Closing'].plot(kind='kde', color='black')\n",
    "plt.xlabel(\"Closing Price in USD\", fontsize=14)\n",
    "plt.ylabel(\"Frequency Distribution\", fontsize=14)\n",
    "plt.title(\"Coffee Futures Closing Price Histogram and KDE, 2010-2017\",fontsize=16)\n",
    "plt.xticks(fontsize=12,rotation=45)\n",
    "plt.yticks(fontsize=12)"
   ]
  },
  {
   "cell_type": "code",
   "execution_count": 9,
   "metadata": {
    "collapsed": false
   },
   "outputs": [
    {
     "data": {
      "text/plain": [
       "(array([ 0.   ,  0.002,  0.004,  0.006,  0.008,  0.01 ,  0.012,  0.014,\n",
       "         0.016]), <a list of 9 Text yticklabel objects>)"
      ]
     },
     "execution_count": 9,
     "metadata": {},
     "output_type": "execute_result"
    },
    {
     "data": {
      "image/png": "[encoded data removed]",
      "text/plain": [
       "<matplotlib.figure.Figure at 0xd28d940>"
      ]
     },
     "metadata": {},
     "output_type": "display_data"
    }
   ],
   "source": [
    "df['Open'].hist(bins=20, normed=True, color='darkblue')\n",
    "df['Open'].plot(kind='kde', color='black')\n",
    "plt.xlabel(\"Opening Price in USD\",fontsize=14)\n",
    "plt.ylabel(\"Frequency Distribution\", fontsize=14)\n",
    "plt.title(\"Coffee Futures Opening Price Histogram and KDE, 2010-2017\",fontsize=16)\n",
    "plt.xticks(fontsize=12,rotation=45)\n",
    "plt.yticks(fontsize=12)"
   ]
  },
  {
   "cell_type": "code",
   "execution_count": 11,
   "metadata": {
    "collapsed": false
   },
   "outputs": [
    {
     "data": {
      "text/plain": [
       "(array([ 0.   ,  0.002,  0.004,  0.006,  0.008,  0.01 ,  0.012,  0.014,\n",
       "         0.016]), <a list of 9 Text yticklabel objects>)"
      ]
     },
     "execution_count": 11,
     "metadata": {},
     "output_type": "execute_result"
    },
    {
     "data": {
      "image/png": "[encoded data removed]",
      "text/plain": [
       "<matplotlib.figure.Figure at 0xd30d128>"
      ]
     },
     "metadata": {},
     "output_type": "display_data"
    }
   ],
   "source": [
    "df['High'].hist(bins=20, normed=True, color='darkblue')\n",
    "df['High'].plot(kind='kde', color='black')\n",
    "plt.xlabel(\"High Price in USD\",fontsize=14)\n",
    "plt.ylabel(\"Frequency Distribution\", fontsize=14)\n",
    "plt.title(\"Coffee Futures High Price Histogram and KDE, 2010-2017\",fontsize=16)\n",
    "plt.xticks(fontsize=12,rotation=45)\n",
    "plt.yticks(fontsize=12)"
   ]
  },
  {
   "cell_type": "code",
   "execution_count": 12,
   "metadata": {
    "collapsed": false
   },
   "outputs": [
    {
     "data": {
      "text/plain": [
       "(array([ 0.   ,  0.002,  0.004,  0.006,  0.008,  0.01 ,  0.012,  0.014,\n",
       "         0.016,  0.018]), <a list of 10 Text yticklabel objects>)"
      ]
     },
     "execution_count": 12,
     "metadata": {},
     "output_type": "execute_result"
    },
    {
     "data": {
      "image/png": "[encoded data removed]",
      "text/plain": [
       "<matplotlib.figure.Figure at 0xd476940>"
      ]
     },
     "metadata": {},
     "output_type": "display_data"
    }
   ],
   "source": [
    "df['Low'].hist(bins=20, normed=True, color='darkblue')\n",
    "df['Low'].plot(kind='kde', color='black')\n",
    "plt.xlabel(\"Low Price in USD\", fontsize=14)\n",
    "plt.ylabel(\"Frequency Distribution\", fontsize=14)\n",
    "plt.title(\"Coffee Futures Low Price Histogram and KDE, 2010-2017\",fontsize=16)\n",
    "plt.xticks(fontsize=12,rotation=45)\n",
    "plt.yticks(fontsize=12)"
   ]
  },
  {
   "cell_type": "code",
   "execution_count": 16,
   "metadata": {
    "collapsed": false,
    "scrolled": true
   },
   "outputs": [
    {
     "data": {
      "image/png": "[encoded data removed]",
      "text/plain": [
       "<matplotlib.figure.Figure at 0xe75e908>"
      ]
     },
     "metadata": {},
     "output_type": "display_data"
    }
   ],
   "source": [
    "#In addition to using histograms and kernel density estimates, let's use a correlation matrix data visualization \n",
    "#to see relationships between the variables in the coffee futures data.\n",
    "\n",
    "import seaborn as sns\n",
    "import pandas as pd\n",
    "import numpy as np\n",
    "ax = plt.axes()\n",
    "corr = df.corr()\n",
    "sns.heatmap(corr, cmap='Blues', xticklabels=corr.columns.values, yticklabels=corr.columns.values)\n",
    "ax.set_title('Correlation Matrix of Variables',fontsize=16)\n",
    "sns.plt.show()\n",
    "\n",
    "#This visualization is not particularly helpful as it appears all the \n",
    "#variables are highly positively correlated to each other (0.9992 and above). Let's explore a bit further."
   ]
  },
  {
   "cell_type": "code",
   "execution_count": 17,
   "metadata": {
    "collapsed": false
   },
   "outputs": [
    {
     "name": "stderr",
     "output_type": "stream",
     "text": [
      "C:\\Anaconda3\\lib\\site-packages\\sklearn\\cross_validation.py:41: DeprecationWarning: This module was deprecated in version 0.18 in favor of the model_selection module into which all the refactored classes and functions are moved. Also note that the interface of the new CV iterators are different from that of this module. This module will be removed in 0.20.\n",
      "  \"This module will be removed in 0.20.\", DeprecationWarning)\n"
     ]
    }
   ],
   "source": [
    "#Now that we've done some exploratory data analysis, let's move onto selecting and creating \n",
    "#variables for use in the machine learning models.\n",
    "#Import machine learning classifiers \n",
    "from sklearn.linear_model import LinearRegression\n",
    "from sklearn.tree import DecisionTreeClassifier\n",
    "\n",
    "#Import ML metrics\n",
    "from sklearn.cross_validation import train_test_split\n",
    "import sklearn.metrics\n",
    "from sklearn.metrics import classification_report"
   ]
  },
  {
   "cell_type": "code",
   "execution_count": 18,
   "metadata": {
    "collapsed": true
   },
   "outputs": [],
   "source": [
    "#Encode the categorical features as numbers\n",
    "%matplotlib inline\n",
    "import numpy as np\n",
    "import seaborn as sns\n",
    "from sklearn import preprocessing\n",
    "def number_encode_features(df):\n",
    "    result = df.copy()\n",
    "    encoders = {}\n",
    "    for column in result.columns:\n",
    "        if result.dtypes[column] == np.object:\n",
    "            encoders[column] = preprocessing.LabelEncoder()\n",
    "            result[column] = encoders[column].fit_transform(result[column])\n",
    "    return result, encoders\n",
    "\n",
    "encoded_data, _ = number_encode_features(df)"
   ]
  },
  {
   "cell_type": "code",
   "execution_count": 19,
   "metadata": {
    "collapsed": false
   },
   "outputs": [
    {
     "name": "stderr",
     "output_type": "stream",
     "text": [
      "C:\\Anaconda3\\lib\\site-packages\\ipykernel\\__main__.py:6: FutureWarning: using '-' to provide set differences with Indexes is deprecated, use .difference()\n"
     ]
    }
   ],
   "source": [
    "import sklearn.cross_validation as cross_validation\n",
    "import sklearn.metrics as metrics\n",
    "import sklearn.linear_model as linear_model\n",
    "\n",
    "#Define y_train and y_test variables - desired output is \"ClosingPrice\" variable\n",
    "X_train, X_test, y_train, y_test = cross_validation.train_test_split(encoded_data[encoded_data.columns - [\"Closing\"]], \n",
    "    encoded_data[\"Closing\"], train_size=0.80)\n",
    "\n",
    "#Let's scale the features with mean of 0 and variance of 1 using a Standard Scaler from scikit-learn\n",
    "scaler = preprocessing.StandardScaler()\n",
    "\n",
    "X_train = pd.DataFrame(scaler.fit_transform(X_train.astype(\"float64\")), columns=X_train.columns)\n",
    "X_test = scaler.transform(X_test.astype(\"float64\"))\n",
    "\n",
    "y_train = pd.DataFrame(scaler.fit_transform(X_train.astype(\"float64\")), columns=X_train.columns)\n",
    "y_test = scaler.transform(X_test.astype(\"float64\"))"
   ]
  },
  {
   "cell_type": "code",
   "execution_count": 20,
   "metadata": {
    "collapsed": false
   },
   "outputs": [
    {
     "name": "stdout",
     "output_type": "stream",
     "text": [
      "[[  1.00000000e+00  -2.16126319e-16   5.32427434e-16  -3.64332506e-16]\n",
      " [ -1.42473561e-16   1.00000000e+00  -4.44089210e-16   2.22044605e-16]\n",
      " [ -6.27972339e-17   1.85962357e-15   1.00000000e+00   3.33066907e-16]\n",
      " [ -6.66286127e-17  -2.22044605e-16  -4.02455846e-16   1.00000000e+00]]\n"
     ]
    }
   ],
   "source": [
    "#Let's do a Linear Regression model to begin since it's the simplest model and is easy to interpret\n",
    "from sklearn.linear_model import LinearRegression\n",
    "from sklearn import linear_model\n",
    "regr = linear_model.LinearRegression()\n",
    "regr.fit(X_train, y_train)\n",
    "LinearRegression(copy_X=True, fit_intercept=True, n_jobs=1, normalize=True)\n",
    "print(regr.coef_)"
   ]
  },
  {
   "cell_type": "code",
   "execution_count": 21,
   "metadata": {
    "collapsed": true
   },
   "outputs": [],
   "source": [
    "#Now, rather than encoding the variables, we will explicitly define them.\n",
    "\n",
    "#X is columns 2-4 (Open, High & Low Price)\n",
    "X = df.values[:,2:4]\n",
    "#Target variable Y is column 1 (Closing Price)\n",
    "y = df.values[:,1]\n",
    "\n",
    "#Split data into test and training data with 20% test size\n",
    "X_train, X_test, y_train, y_test = train_test_split(X, y, test_size = 0.2, random_state = 100)"
   ]
  },
  {
   "cell_type": "code",
   "execution_count": 22,
   "metadata": {
    "collapsed": false
   },
   "outputs": [
    {
     "data": {
      "text/plain": [
       "array([ 0.98227517,  0.98250914,  0.99001714,  0.99510831,  0.98830391,\n",
       "        0.98274241,  0.98902673,  0.98687774,  0.98046056,  0.99606433])"
      ]
     },
     "execution_count": 22,
     "metadata": {},
     "output_type": "execute_result"
    }
   ],
   "source": [
    "#Next, we evaluate the LR model\n",
    "from sklearn.model_selection import cross_val_score\n",
    "regr = linear_model.LinearRegression()\n",
    "regr.fit(X,y)\n",
    "cross_val_score(regr, X, y,cv=10)\n",
    "\n",
    "#Cross validation score for linear regression is 0.982."
   ]
  },
  {
   "cell_type": "code",
   "execution_count": 23,
   "metadata": {
    "collapsed": false
   },
   "outputs": [
    {
     "data": {
      "text/plain": [
       "array([ 0.99220141,  0.99583791,  0.99655071])"
      ]
     },
     "execution_count": 23,
     "metadata": {},
     "output_type": "execute_result"
    }
   ],
   "source": [
    "#Now let's look at the R squared goodness of fit metric for the Linear Regression Model\n",
    "#R2 is the proportion of variance in the dependent variable that is predictable from the independent variables.\n",
    "from sklearn import model_selection\n",
    "\n",
    "regr = linear_model.LinearRegression()\n",
    "regr.fit(X,y)\n",
    "scoring = 'r2'\n",
    "\n",
    "results = model_selection.cross_val_score(regr, X, y, scoring=scoring)\n",
    "results\n",
    "\n",
    "#Linear Regression Goodness of Fit = 0.996."
   ]
  },
  {
   "cell_type": "code",
   "execution_count": 24,
   "metadata": {
    "collapsed": false
   },
   "outputs": [
    {
     "data": {
      "text/plain": [
       "(array([  75.,  100.,  125.,  150.,  175.,  200.,  225.,  250.,  275.,\n",
       "         300.,  325.]), <a list of 11 Text yticklabel objects>)"
      ]
     },
     "execution_count": 24,
     "metadata": {},
     "output_type": "execute_result"
    },
    {
     "data": {
      "image/png": "[encoded data removed]",
      "text/plain": [
       "<matplotlib.figure.Figure at 0xebc3320>"
      ]
     },
     "metadata": {},
     "output_type": "display_data"
    }
   ],
   "source": [
    "# Plot the Linear Regression results\n",
    "plt.figure()\n",
    "plt.plot(X, y, c=\"darkblue\", linewidth=1)\n",
    "plt.xlabel(\"Open, High & Low Price in USD\",fontsize=14)\n",
    "plt.ylabel(\"Closing Price in USD\",fontsize=14)\n",
    "plt.title(\"Linear Regression - Coffee Futures, 2010-2017\",fontsize=16)\n",
    "plt.xticks(fontsize=12,rotation=45)\n",
    "plt.yticks(fontsize=12)"
   ]
  },
  {
   "cell_type": "code",
   "execution_count": 25,
   "metadata": {
    "collapsed": false
   },
   "outputs": [
    {
     "data": {
      "text/plain": [
       "array([[126.85, 127.53],\n",
       "       [127.55, 129.0],\n",
       "       [127.5, 128.15],\n",
       "       ..., \n",
       "       [141.85, 142.7],\n",
       "       [136.0, 142.45],\n",
       "       [135.93, 135.93]], dtype=object)"
      ]
     },
     "execution_count": 25,
     "metadata": {},
     "output_type": "execute_result"
    }
   ],
   "source": [
    "#Let's predict the Closing Price using the Linear Regression Model and see how close it gets to actual Closing Prices.\n",
    "X"
   ]
  },
  {
   "cell_type": "code",
   "execution_count": 26,
   "metadata": {
    "collapsed": false
   },
   "outputs": [
    {
     "data": {
      "text/html": [
       "<div>\n",
       "<table border=\"1\" class=\"dataframe\">\n",
       "  <thead>\n",
       "    <tr style=\"text-align: right;\">\n",
       "      <th></th>\n",
       "      <th>LR Predicted</th>\n",
       "    </tr>\n",
       "  </thead>\n",
       "  <tbody>\n",
       "    <tr>\n",
       "      <th>0</th>\n",
       "      <td>125.946209</td>\n",
       "    </tr>\n",
       "    <tr>\n",
       "      <th>1</th>\n",
       "      <td>127.454415</td>\n",
       "    </tr>\n",
       "    <tr>\n",
       "      <th>2</th>\n",
       "      <td>126.553729</td>\n",
       "    </tr>\n",
       "    <tr>\n",
       "      <th>3</th>\n",
       "      <td>126.883475</td>\n",
       "    </tr>\n",
       "    <tr>\n",
       "      <th>4</th>\n",
       "      <td>125.912623</td>\n",
       "    </tr>\n",
       "    <tr>\n",
       "      <th>5</th>\n",
       "      <td>124.356366</td>\n",
       "    </tr>\n",
       "    <tr>\n",
       "      <th>6</th>\n",
       "      <td>124.213658</td>\n",
       "    </tr>\n",
       "    <tr>\n",
       "      <th>7</th>\n",
       "      <td>124.977213</td>\n",
       "    </tr>\n",
       "    <tr>\n",
       "      <th>8</th>\n",
       "      <td>125.783661</td>\n",
       "    </tr>\n",
       "    <tr>\n",
       "      <th>9</th>\n",
       "      <td>126.302820</td>\n",
       "    </tr>\n",
       "    <tr>\n",
       "      <th>10</th>\n",
       "      <td>124.703887</td>\n",
       "    </tr>\n",
       "    <tr>\n",
       "      <th>11</th>\n",
       "      <td>126.168281</td>\n",
       "    </tr>\n",
       "    <tr>\n",
       "      <th>12</th>\n",
       "      <td>126.143992</td>\n",
       "    </tr>\n",
       "    <tr>\n",
       "      <th>13</th>\n",
       "      <td>123.344384</td>\n",
       "    </tr>\n",
       "    <tr>\n",
       "      <th>14</th>\n",
       "      <td>123.793486</td>\n",
       "    </tr>\n",
       "    <tr>\n",
       "      <th>15</th>\n",
       "      <td>123.196819</td>\n",
       "    </tr>\n",
       "    <tr>\n",
       "      <th>16</th>\n",
       "      <td>124.990959</td>\n",
       "    </tr>\n",
       "    <tr>\n",
       "      <th>17</th>\n",
       "      <td>126.385186</td>\n",
       "    </tr>\n",
       "    <tr>\n",
       "      <th>18</th>\n",
       "      <td>126.668945</td>\n",
       "    </tr>\n",
       "    <tr>\n",
       "      <th>19</th>\n",
       "      <td>123.151660</td>\n",
       "    </tr>\n",
       "    <tr>\n",
       "      <th>20</th>\n",
       "      <td>123.556431</td>\n",
       "    </tr>\n",
       "    <tr>\n",
       "      <th>21</th>\n",
       "      <td>124.857139</td>\n",
       "    </tr>\n",
       "    <tr>\n",
       "      <th>22</th>\n",
       "      <td>125.578019</td>\n",
       "    </tr>\n",
       "    <tr>\n",
       "      <th>23</th>\n",
       "      <td>126.205379</td>\n",
       "    </tr>\n",
       "    <tr>\n",
       "      <th>24</th>\n",
       "      <td>128.177779</td>\n",
       "    </tr>\n",
       "    <tr>\n",
       "      <th>25</th>\n",
       "      <td>131.114517</td>\n",
       "    </tr>\n",
       "    <tr>\n",
       "      <th>26</th>\n",
       "      <td>130.263019</td>\n",
       "    </tr>\n",
       "    <tr>\n",
       "      <th>27</th>\n",
       "      <td>129.235637</td>\n",
       "    </tr>\n",
       "    <tr>\n",
       "      <th>28</th>\n",
       "      <td>126.162595</td>\n",
       "    </tr>\n",
       "    <tr>\n",
       "      <th>29</th>\n",
       "      <td>124.795860</td>\n",
       "    </tr>\n",
       "    <tr>\n",
       "      <th>30</th>\n",
       "      <td>126.189259</td>\n",
       "    </tr>\n",
       "  </tbody>\n",
       "</table>\n",
       "</div>"
      ],
      "text/plain": [
       "    LR Predicted\n",
       "0     125.946209\n",
       "1     127.454415\n",
       "2     126.553729\n",
       "3     126.883475\n",
       "4     125.912623\n",
       "5     124.356366\n",
       "6     124.213658\n",
       "7     124.977213\n",
       "8     125.783661\n",
       "9     126.302820\n",
       "10    124.703887\n",
       "11    126.168281\n",
       "12    126.143992\n",
       "13    123.344384\n",
       "14    123.793486\n",
       "15    123.196819\n",
       "16    124.990959\n",
       "17    126.385186\n",
       "18    126.668945\n",
       "19    123.151660\n",
       "20    123.556431\n",
       "21    124.857139\n",
       "22    125.578019\n",
       "23    126.205379\n",
       "24    128.177779\n",
       "25    131.114517\n",
       "26    130.263019\n",
       "27    129.235637\n",
       "28    126.162595\n",
       "29    124.795860\n",
       "30    126.189259"
      ]
     },
     "execution_count": 26,
     "metadata": {},
     "output_type": "execute_result"
    }
   ],
   "source": [
    "predictedClosing = regr.predict(X)\n",
    "predictedClosing\n",
    "\n",
    "#Convert array to dataframe\n",
    "LR = pd.DataFrame(predictedClosing, columns=['LR Predicted'])\n",
    "LR.head(31)\n",
    "\n",
    "# On Day 0 (15-Nov-17), predicted Closing Price is $125.95. The actual Closing Price is $126.80.\n",
    "# On Day 10 (2-Nov-17), predicted Closing Price is $124.70. The actual Closing Price is $126.40.\n",
    "# On Day 20 (18-Oct-17), predicted Closing Price is $123.55. The actual Closing Price is $124.30.\n",
    "# On Day 30 (4-Oct-17), predicted Closing Price is $126.19. The actual Closing Price is $125.15."
   ]
  },
  {
   "cell_type": "code",
   "execution_count": 23,
   "metadata": {
    "collapsed": false
   },
   "outputs": [],
   "source": [
    "#Write LR Closing Price Prediction to CSV file\n",
    "LR.to_csv('LR.csv')"
   ]
  },
  {
   "cell_type": "code",
   "execution_count": 27,
   "metadata": {
    "collapsed": false
   },
   "outputs": [],
   "source": [
    "#Code adapted from: http://chrisstrelioff.ws/sandbox/2015/06/08/decision_trees_in_python_with_scikit_learn_and_pandas.html\n",
    "#Next, let's do a Decision Tree classifier\n",
    "from sklearn.cross_validation import train_test_split\n",
    "from sklearn.tree import DecisionTreeClassifier\n",
    "from sklearn.metrics import accuracy_score\n",
    "from sklearn import tree\n",
    "\n",
    "#Define x and y variables.\n",
    "#X variable will be columns 2-4 in the original df ('Open','High' and 'Low')\n",
    "#y variable will be target value - column 1 in the df ('ClosingPrice')\n",
    "X = df.values[:,2:4]\n",
    "y = df.values[:,1]\n",
    "\n",
    "#Split data into test and training data with 20% test size\n",
    "X_train, X_test, y_train, y_test = train_test_split(X, y, test_size = 0.2, random_state = 100)"
   ]
  },
  {
   "cell_type": "code",
   "execution_count": 28,
   "metadata": {
    "collapsed": false
   },
   "outputs": [
    {
     "data": {
      "text/plain": [
       "((2805, 2), (2805,))"
      ]
     },
     "execution_count": 28,
     "metadata": {},
     "output_type": "execute_result"
    }
   ],
   "source": [
    "X.shape,y.shape"
   ]
  },
  {
   "cell_type": "code",
   "execution_count": 29,
   "metadata": {
    "collapsed": false
   },
   "outputs": [
    {
     "data": {
      "text/plain": [
       "array([ 0.95417882,  0.95663602,  0.98216818,  0.99259414,  0.99539433,\n",
       "        0.99795423,  0.9935154 ,  0.9999999 ,  0.99379191,  0.9904041 ])"
      ]
     },
     "execution_count": 29,
     "metadata": {},
     "output_type": "execute_result"
    }
   ],
   "source": [
    "#A regular Decision Tree classifier won't work since the data is continuous.\n",
    "#So let's try using a Decision Tree Regressor. \n",
    "\n",
    "#Import libraries\n",
    "from sklearn.model_selection import cross_val_score\n",
    "from sklearn.tree import DecisionTreeRegressor\n",
    "\n",
    "#Initiate model\n",
    "regressor = DecisionTreeRegressor(random_state=0)\n",
    "\n",
    "regressor.fit(X,y)\n",
    "#Model cross-validation score\n",
    "cross_val_score(regressor, X, y,cv=10)"
   ]
  },
  {
   "cell_type": "code",
   "execution_count": 30,
   "metadata": {
    "collapsed": false
   },
   "outputs": [
    {
     "data": {
      "text/plain": [
       "array([ 0.9860882 ,  0.98796996,  0.79875432])"
      ]
     },
     "execution_count": 30,
     "metadata": {},
     "output_type": "execute_result"
    }
   ],
   "source": [
    "#Now let's look at the R squared goodness of fit metric for the Decision Tree Regressor.\n",
    "from sklearn import model_selection\n",
    "\n",
    "regressor = DecisionTreeRegressor(random_state=0)\n",
    "regressor.fit(X,y)\n",
    "scoring = 'r2'\n",
    "\n",
    "results = model_selection.cross_val_score(regressor, X, y, scoring=scoring)\n",
    "results\n",
    "\n",
    "#Decision Tree Regressor Goodness of Fit = 0.799. This is really irrelevant for practical applications since\n",
    "#the prediction is less than 14% accurate."
   ]
  },
  {
   "cell_type": "code",
   "execution_count": 31,
   "metadata": {
    "collapsed": false
   },
   "outputs": [
    {
     "data": {
      "text/plain": [
       "(array([  75.,  100.,  125.,  150.,  175.,  200.,  225.,  250.,  275.,\n",
       "         300.,  325.]), <a list of 11 Text yticklabel objects>)"
      ]
     },
     "execution_count": 31,
     "metadata": {},
     "output_type": "execute_result"
    },
    {
     "data": {
      "image/png": "[encoded data removed]",
      "text/plain": [
       "<matplotlib.figure.Figure at 0xeedb5c0>"
      ]
     },
     "metadata": {},
     "output_type": "display_data"
    }
   ],
   "source": [
    "# Plot the Decision Tree Regression results\n",
    "plt.figure()\n",
    "plt.plot(X, y, c=\"darkblue\", linewidth=1)\n",
    "plt.xlabel(\"Open, High & Low Price in USD\",fontsize=14)\n",
    "plt.ylabel(\"Closing Price in USD\",fontsize=14)\n",
    "plt.title(\"Decision Tree Regression - Coffee Futures, 2010-2017\",fontsize=16)\n",
    "plt.xticks(fontsize=12,rotation=45)\n",
    "plt.yticks(fontsize=12)"
   ]
  },
  {
   "cell_type": "code",
   "execution_count": 32,
   "metadata": {
    "collapsed": false
   },
   "outputs": [
    {
     "data": {
      "text/html": [
       "<div>\n",
       "<table border=\"1\" class=\"dataframe\">\n",
       "  <thead>\n",
       "    <tr style=\"text-align: right;\">\n",
       "      <th></th>\n",
       "      <th>DT Regr Predicted</th>\n",
       "    </tr>\n",
       "  </thead>\n",
       "  <tbody>\n",
       "    <tr>\n",
       "      <th>0</th>\n",
       "      <td>126.800000</td>\n",
       "    </tr>\n",
       "    <tr>\n",
       "      <th>1</th>\n",
       "      <td>127.050000</td>\n",
       "    </tr>\n",
       "    <tr>\n",
       "      <th>2</th>\n",
       "      <td>127.600000</td>\n",
       "    </tr>\n",
       "    <tr>\n",
       "      <th>3</th>\n",
       "      <td>127.550000</td>\n",
       "    </tr>\n",
       "    <tr>\n",
       "      <th>4</th>\n",
       "      <td>126.400000</td>\n",
       "    </tr>\n",
       "    <tr>\n",
       "      <th>5</th>\n",
       "      <td>125.750000</td>\n",
       "    </tr>\n",
       "    <tr>\n",
       "      <th>6</th>\n",
       "      <td>124.700000</td>\n",
       "    </tr>\n",
       "    <tr>\n",
       "      <th>7</th>\n",
       "      <td>125.550000</td>\n",
       "    </tr>\n",
       "    <tr>\n",
       "      <th>8</th>\n",
       "      <td>123.950000</td>\n",
       "    </tr>\n",
       "    <tr>\n",
       "      <th>9</th>\n",
       "      <td>126.400000</td>\n",
       "    </tr>\n",
       "    <tr>\n",
       "      <th>10</th>\n",
       "      <td>122.950000</td>\n",
       "    </tr>\n",
       "    <tr>\n",
       "      <th>11</th>\n",
       "      <td>125.900000</td>\n",
       "    </tr>\n",
       "    <tr>\n",
       "      <th>12</th>\n",
       "      <td>126.600000</td>\n",
       "    </tr>\n",
       "    <tr>\n",
       "      <th>13</th>\n",
       "      <td>124.550000</td>\n",
       "    </tr>\n",
       "    <tr>\n",
       "      <th>14</th>\n",
       "      <td>124.720000</td>\n",
       "    </tr>\n",
       "    <tr>\n",
       "      <th>15</th>\n",
       "      <td>123.200000</td>\n",
       "    </tr>\n",
       "    <tr>\n",
       "      <th>16</th>\n",
       "      <td>124.350000</td>\n",
       "    </tr>\n",
       "    <tr>\n",
       "      <th>17</th>\n",
       "      <td>125.250000</td>\n",
       "    </tr>\n",
       "    <tr>\n",
       "      <th>18</th>\n",
       "      <td>126.850000</td>\n",
       "    </tr>\n",
       "    <tr>\n",
       "      <th>19</th>\n",
       "      <td>122.933333</td>\n",
       "    </tr>\n",
       "    <tr>\n",
       "      <th>20</th>\n",
       "      <td>124.150000</td>\n",
       "    </tr>\n",
       "    <tr>\n",
       "      <th>21</th>\n",
       "      <td>123.750000</td>\n",
       "    </tr>\n",
       "    <tr>\n",
       "      <th>22</th>\n",
       "      <td>126.450000</td>\n",
       "    </tr>\n",
       "    <tr>\n",
       "      <th>23</th>\n",
       "      <td>126.350000</td>\n",
       "    </tr>\n",
       "    <tr>\n",
       "      <th>24</th>\n",
       "      <td>126.800000</td>\n",
       "    </tr>\n",
       "    <tr>\n",
       "      <th>25</th>\n",
       "      <td>131.000000</td>\n",
       "    </tr>\n",
       "    <tr>\n",
       "      <th>26</th>\n",
       "      <td>130.950000</td>\n",
       "    </tr>\n",
       "    <tr>\n",
       "      <th>27</th>\n",
       "      <td>130.000000</td>\n",
       "    </tr>\n",
       "    <tr>\n",
       "      <th>28</th>\n",
       "      <td>127.200000</td>\n",
       "    </tr>\n",
       "    <tr>\n",
       "      <th>29</th>\n",
       "      <td>125.150000</td>\n",
       "    </tr>\n",
       "    <tr>\n",
       "      <th>30</th>\n",
       "      <td>125.450000</td>\n",
       "    </tr>\n",
       "  </tbody>\n",
       "</table>\n",
       "</div>"
      ],
      "text/plain": [
       "    DT Regr Predicted\n",
       "0          126.800000\n",
       "1          127.050000\n",
       "2          127.600000\n",
       "3          127.550000\n",
       "4          126.400000\n",
       "5          125.750000\n",
       "6          124.700000\n",
       "7          125.550000\n",
       "8          123.950000\n",
       "9          126.400000\n",
       "10         122.950000\n",
       "11         125.900000\n",
       "12         126.600000\n",
       "13         124.550000\n",
       "14         124.720000\n",
       "15         123.200000\n",
       "16         124.350000\n",
       "17         125.250000\n",
       "18         126.850000\n",
       "19         122.933333\n",
       "20         124.150000\n",
       "21         123.750000\n",
       "22         126.450000\n",
       "23         126.350000\n",
       "24         126.800000\n",
       "25         131.000000\n",
       "26         130.950000\n",
       "27         130.000000\n",
       "28         127.200000\n",
       "29         125.150000\n",
       "30         125.450000"
      ]
     },
     "execution_count": 32,
     "metadata": {},
     "output_type": "execute_result"
    }
   ],
   "source": [
    "#For practical applications, let's predict the Closing Price using the Decision Tree Regression Model\n",
    "y2 = regressor.predict(X)\n",
    "y2\n",
    "\n",
    "#Convert array to dataframe\n",
    "DTRegression = pd.DataFrame(y2, columns=['DT Regr Predicted'])\n",
    "DTRegression.head(31)\n",
    "\n",
    "#On Day 0 (15-Nov-17), predicted Closing Price is $126.8. The actual Closing Price is $126.8.\n",
    "#On Day 10 (2-Nov-17), predicted Closing Price is $122.95. The actual Closing Price is $126.4.\n",
    "#On Day 20 (18-Oct-17), predicted Closing Price is $124.15. The actual Closing Price is $124.3.\n",
    "#On Day 30 (4-Oct-17), predicted Closing Price is $125.45. The actual Closing Price is $125.45.\n"
   ]
  },
  {
   "cell_type": "code",
   "execution_count": 33,
   "metadata": {
    "collapsed": false
   },
   "outputs": [],
   "source": [
    "#Write Decision Tree Regression DF to CSV\n",
    "DTRegression.to_csv('DTR.csv')"
   ]
  },
  {
   "cell_type": "code",
   "execution_count": 34,
   "metadata": {
    "collapsed": false
   },
   "outputs": [
    {
     "data": {
      "text/plain": [
       "(array([  75.,  100.,  125.,  150.,  175.,  200.,  225.,  250.,  275.,\n",
       "         300.,  325.]), <a list of 11 Text yticklabel objects>)"
      ]
     },
     "execution_count": 34,
     "metadata": {},
     "output_type": "execute_result"
    },
    {
     "data": {
      "image/png": "[encoded data removed]",
      "text/plain": [
       "<matplotlib.figure.Figure at 0xefb26d8>"
      ]
     },
     "metadata": {},
     "output_type": "display_data"
    }
   ],
   "source": [
    "# Next, let's try Decision Tree Regression with AdaBoost and plot the result \n",
    "from sklearn.ensemble import AdaBoostRegressor\n",
    "#X variable will be columns 2-4 in the df ('Open','High' and 'Low')\n",
    "#y variable will be target value - column 1 in the df ('ClosingPrice')\n",
    "X = df.values[:,2:4]\n",
    "y = df.values[:,1]\n",
    "\n",
    "regr_2 = AdaBoostRegressor(DecisionTreeRegressor(max_depth=4),\n",
    "                          n_estimators=300)\n",
    "\n",
    "regr_2.fit(X, y)\n",
    "\n",
    "# Plot the results\n",
    "plt.figure()\n",
    "plt.plot(X, y, c=\"blue\", label=\"n_estimators=300\", linewidth=1)\n",
    "plt.xlabel(\"Open, High & Low Price\",fontsize=14)\n",
    "plt.ylabel(\"Closing Price in USD\",fontsize=14)\n",
    "plt.title(\"Decision Tree AdaBoost - Coffee Futures, 2010-2017\",fontsize=16)\n",
    "plt.xticks(fontsize=12,rotation=45)\n",
    "plt.yticks(fontsize=12)"
   ]
  },
  {
   "cell_type": "code",
   "execution_count": 35,
   "metadata": {
    "collapsed": false
   },
   "outputs": [
    {
     "data": {
      "text/plain": [
       "array([ 0.9887099 ,  0.98257996,  0.76777158])"
      ]
     },
     "execution_count": 35,
     "metadata": {},
     "output_type": "execute_result"
    }
   ],
   "source": [
    "#AdaBoost Goodness of Fit, R squared.\n",
    "scoring = 'r2'\n",
    "\n",
    "results = model_selection.cross_val_score(regr_2, X, y, scoring=scoring)\n",
    "results\n",
    "\n",
    "#AdaBoost R squared = 0.749 so it's a worse fit than the Linear Regression & Decision Tree Regressor models. \n",
    "#Can we do better?"
   ]
  },
  {
   "cell_type": "code",
   "execution_count": 36,
   "metadata": {
    "collapsed": false
   },
   "outputs": [
    {
     "data": {
      "text/plain": [
       "array([ 0.96670843,  0.97018896,  0.98733958,  0.99226132,  0.98253079,\n",
       "        0.96414862,  0.9792284 ,  0.98757493,  0.97855354,  0.9910516 ])"
      ]
     },
     "execution_count": 36,
     "metadata": {},
     "output_type": "execute_result"
    }
   ],
   "source": [
    "cross_val_score(regr_2, X, y,cv=10)"
   ]
  },
  {
   "cell_type": "code",
   "execution_count": 37,
   "metadata": {
    "collapsed": false
   },
   "outputs": [
    {
     "data": {
      "text/html": [
       "<div>\n",
       "<table border=\"1\" class=\"dataframe\">\n",
       "  <thead>\n",
       "    <tr style=\"text-align: right;\">\n",
       "      <th></th>\n",
       "      <th>AdaBoost Predicted</th>\n",
       "    </tr>\n",
       "  </thead>\n",
       "  <tbody>\n",
       "    <tr>\n",
       "      <th>0</th>\n",
       "      <td>126.718889</td>\n",
       "    </tr>\n",
       "    <tr>\n",
       "      <th>1</th>\n",
       "      <td>127.254545</td>\n",
       "    </tr>\n",
       "    <tr>\n",
       "      <th>2</th>\n",
       "      <td>126.718889</td>\n",
       "    </tr>\n",
       "    <tr>\n",
       "      <th>3</th>\n",
       "      <td>126.209661</td>\n",
       "    </tr>\n",
       "    <tr>\n",
       "      <th>4</th>\n",
       "      <td>125.969611</td>\n",
       "    </tr>\n",
       "    <tr>\n",
       "      <th>5</th>\n",
       "      <td>124.382836</td>\n",
       "    </tr>\n",
       "    <tr>\n",
       "      <th>6</th>\n",
       "      <td>124.514756</td>\n",
       "    </tr>\n",
       "    <tr>\n",
       "      <th>7</th>\n",
       "      <td>124.310816</td>\n",
       "    </tr>\n",
       "    <tr>\n",
       "      <th>8</th>\n",
       "      <td>126.718889</td>\n",
       "    </tr>\n",
       "    <tr>\n",
       "      <th>9</th>\n",
       "      <td>124.716800</td>\n",
       "    </tr>\n",
       "    <tr>\n",
       "      <th>10</th>\n",
       "      <td>124.514756</td>\n",
       "    </tr>\n",
       "    <tr>\n",
       "      <th>11</th>\n",
       "      <td>126.718889</td>\n",
       "    </tr>\n",
       "    <tr>\n",
       "      <th>12</th>\n",
       "      <td>125.032083</td>\n",
       "    </tr>\n",
       "    <tr>\n",
       "      <th>13</th>\n",
       "      <td>124.078571</td>\n",
       "    </tr>\n",
       "    <tr>\n",
       "      <th>14</th>\n",
       "      <td>123.902857</td>\n",
       "    </tr>\n",
       "    <tr>\n",
       "      <th>15</th>\n",
       "      <td>123.796237</td>\n",
       "    </tr>\n",
       "    <tr>\n",
       "      <th>16</th>\n",
       "      <td>124.532609</td>\n",
       "    </tr>\n",
       "    <tr>\n",
       "      <th>17</th>\n",
       "      <td>126.718889</td>\n",
       "    </tr>\n",
       "    <tr>\n",
       "      <th>18</th>\n",
       "      <td>125.840526</td>\n",
       "    </tr>\n",
       "    <tr>\n",
       "      <th>19</th>\n",
       "      <td>123.796237</td>\n",
       "    </tr>\n",
       "    <tr>\n",
       "      <th>20</th>\n",
       "      <td>124.078571</td>\n",
       "    </tr>\n",
       "    <tr>\n",
       "      <th>21</th>\n",
       "      <td>124.716800</td>\n",
       "    </tr>\n",
       "    <tr>\n",
       "      <th>22</th>\n",
       "      <td>126.067826</td>\n",
       "    </tr>\n",
       "    <tr>\n",
       "      <th>23</th>\n",
       "      <td>126.718889</td>\n",
       "    </tr>\n",
       "    <tr>\n",
       "      <th>24</th>\n",
       "      <td>127.847609</td>\n",
       "    </tr>\n",
       "    <tr>\n",
       "      <th>25</th>\n",
       "      <td>131.081296</td>\n",
       "    </tr>\n",
       "    <tr>\n",
       "      <th>26</th>\n",
       "      <td>130.800253</td>\n",
       "    </tr>\n",
       "    <tr>\n",
       "      <th>27</th>\n",
       "      <td>129.546398</td>\n",
       "    </tr>\n",
       "    <tr>\n",
       "      <th>28</th>\n",
       "      <td>126.209661</td>\n",
       "    </tr>\n",
       "    <tr>\n",
       "      <th>29</th>\n",
       "      <td>124.957750</td>\n",
       "    </tr>\n",
       "    <tr>\n",
       "      <th>30</th>\n",
       "      <td>126.718889</td>\n",
       "    </tr>\n",
       "  </tbody>\n",
       "</table>\n",
       "</div>"
      ],
      "text/plain": [
       "    AdaBoost Predicted\n",
       "0           126.718889\n",
       "1           127.254545\n",
       "2           126.718889\n",
       "3           126.209661\n",
       "4           125.969611\n",
       "5           124.382836\n",
       "6           124.514756\n",
       "7           124.310816\n",
       "8           126.718889\n",
       "9           124.716800\n",
       "10          124.514756\n",
       "11          126.718889\n",
       "12          125.032083\n",
       "13          124.078571\n",
       "14          123.902857\n",
       "15          123.796237\n",
       "16          124.532609\n",
       "17          126.718889\n",
       "18          125.840526\n",
       "19          123.796237\n",
       "20          124.078571\n",
       "21          124.716800\n",
       "22          126.067826\n",
       "23          126.718889\n",
       "24          127.847609\n",
       "25          131.081296\n",
       "26          130.800253\n",
       "27          129.546398\n",
       "28          126.209661\n",
       "29          124.957750\n",
       "30          126.718889"
      ]
     },
     "execution_count": 37,
     "metadata": {},
     "output_type": "execute_result"
    }
   ],
   "source": [
    "#Predict Closing Price, y2, using Decision Tree AdaBoost Model\n",
    "y2 = regr_2.predict(X)\n",
    "y2\n",
    "\n",
    "#Convert array to dataframe\n",
    "AdaBoost = pd.DataFrame(y2, columns=['AdaBoost Predicted'])\n",
    "AdaBoost.head(31)\n",
    "\n",
    "#On Day 0 (15-Nov-17), predicted Closing Price is $125.25. The actual Closing Price is $126.80.\n",
    "#On Day 10 (2-Nov-17), predicted Closing Price is $122.53. The actual Closing Price is $126.40.\n",
    "#On Day 20 (18-Oct-17), predicted Closing Price is $122.53. The actual Closing Price is $124.30.\n",
    "#On Day 30 (4-Oct-17), predicted Closing Price is $125.25. The actual Closing Price is $125.15."
   ]
  },
  {
   "cell_type": "code",
   "execution_count": 35,
   "metadata": {
    "collapsed": false
   },
   "outputs": [],
   "source": [
    "#Write the AdaBoost DF to a CSV file\n",
    "AdaBoost.to_csv('AdaBoost.csv')"
   ]
  },
  {
   "cell_type": "code",
   "execution_count": 38,
   "metadata": {
    "collapsed": false
   },
   "outputs": [
    {
     "data": {
      "text/plain": [
       "Ridge(alpha=1.0, copy_X=True, fit_intercept=True, max_iter=None,\n",
       "   normalize=False, random_state=None, solver='auto', tol=0.001)"
      ]
     },
     "execution_count": 38,
     "metadata": {},
     "output_type": "execute_result"
    }
   ],
   "source": [
    "#Since I'm trying to predict a quantity for ClosingPrice, I will try Ridge Regression model next.\n",
    "#Import library\n",
    "from sklearn.linear_model import Ridge\n",
    "#Define X and y variables\n",
    "X = df.values[:,2:4]\n",
    "y = df.values[:,1]\n",
    "\n",
    "clf = Ridge(alpha=1.0)\n",
    "#Fit the model\n",
    "clf.fit(X,y)"
   ]
  },
  {
   "cell_type": "code",
   "execution_count": 39,
   "metadata": {
    "collapsed": false
   },
   "outputs": [
    {
     "data": {
      "text/plain": [
       "array([ 0.99220158,  0.99583787,  0.99655072])"
      ]
     },
     "execution_count": 39,
     "metadata": {},
     "output_type": "execute_result"
    }
   ],
   "source": [
    "#Ridge Regression Goodness of Fit, R squared\n",
    "scoring = 'r2'\n",
    "\n",
    "results = model_selection.cross_val_score(clf, X, y, scoring=scoring)\n",
    "results\n",
    "\n",
    "#Ridge Regression Goodness of Fit = 0.996 which is the same performance as the linear regression model."
   ]
  },
  {
   "cell_type": "code",
   "execution_count": 40,
   "metadata": {
    "collapsed": false
   },
   "outputs": [
    {
     "data": {
      "text/plain": [
       "(array([  75.,  100.,  125.,  150.,  175.,  200.,  225.,  250.,  275.,\n",
       "         300.,  325.]), <a list of 11 Text yticklabel objects>)"
      ]
     },
     "execution_count": 40,
     "metadata": {},
     "output_type": "execute_result"
    },
    {
     "data": {
      "image/png": "[encoded data removed]",
      "text/plain": [
       "<matplotlib.figure.Figure at 0xf923390>"
      ]
     },
     "metadata": {},
     "output_type": "display_data"
    }
   ],
   "source": [
    "# Plot the Ridge Regression results\n",
    "plt.figure()\n",
    "plt.plot(X, y, c=\"blue\", linewidth=1)\n",
    "plt.xlabel(\"Open, High & Low Price\",fontsize=14)\n",
    "plt.ylabel(\"Closing Price in USD\",fontsize=14)\n",
    "plt.title(\"Ridge Regression - Coffee Futures, 2010-2017\",fontsize=16)\n",
    "plt.xticks(fontsize=12,rotation=45)\n",
    "plt.yticks(fontsize=12)"
   ]
  },
  {
   "cell_type": "code",
   "execution_count": 41,
   "metadata": {
    "collapsed": false
   },
   "outputs": [
    {
     "data": {
      "text/html": [
       "<div>\n",
       "<table border=\"1\" class=\"dataframe\">\n",
       "  <thead>\n",
       "    <tr style=\"text-align: right;\">\n",
       "      <th></th>\n",
       "      <th>Ridge Predicted</th>\n",
       "    </tr>\n",
       "  </thead>\n",
       "  <tbody>\n",
       "    <tr>\n",
       "      <th>0</th>\n",
       "      <td>125.946272</td>\n",
       "    </tr>\n",
       "    <tr>\n",
       "      <th>1</th>\n",
       "      <td>127.454415</td>\n",
       "    </tr>\n",
       "    <tr>\n",
       "      <th>2</th>\n",
       "      <td>126.553795</td>\n",
       "    </tr>\n",
       "    <tr>\n",
       "      <th>3</th>\n",
       "      <td>126.883403</td>\n",
       "    </tr>\n",
       "    <tr>\n",
       "      <th>4</th>\n",
       "      <td>125.912587</td>\n",
       "    </tr>\n",
       "    <tr>\n",
       "      <th>5</th>\n",
       "      <td>124.356412</td>\n",
       "    </tr>\n",
       "    <tr>\n",
       "      <th>6</th>\n",
       "      <td>124.213751</td>\n",
       "    </tr>\n",
       "    <tr>\n",
       "      <th>7</th>\n",
       "      <td>124.977126</td>\n",
       "    </tr>\n",
       "    <tr>\n",
       "      <th>8</th>\n",
       "      <td>125.783760</td>\n",
       "    </tr>\n",
       "    <tr>\n",
       "      <th>9</th>\n",
       "      <td>126.302583</td>\n",
       "    </tr>\n",
       "    <tr>\n",
       "      <th>10</th>\n",
       "      <td>124.703880</td>\n",
       "    </tr>\n",
       "    <tr>\n",
       "      <th>11</th>\n",
       "      <td>126.168338</td>\n",
       "    </tr>\n",
       "    <tr>\n",
       "      <th>12</th>\n",
       "      <td>126.143818</td>\n",
       "    </tr>\n",
       "    <tr>\n",
       "      <th>13</th>\n",
       "      <td>123.344460</td>\n",
       "    </tr>\n",
       "    <tr>\n",
       "      <th>14</th>\n",
       "      <td>123.793452</td>\n",
       "    </tr>\n",
       "    <tr>\n",
       "      <th>15</th>\n",
       "      <td>123.196894</td>\n",
       "    </tr>\n",
       "    <tr>\n",
       "      <th>16</th>\n",
       "      <td>124.990960</td>\n",
       "    </tr>\n",
       "    <tr>\n",
       "      <th>17</th>\n",
       "      <td>126.385222</td>\n",
       "    </tr>\n",
       "    <tr>\n",
       "      <th>18</th>\n",
       "      <td>126.668789</td>\n",
       "    </tr>\n",
       "    <tr>\n",
       "      <th>19</th>\n",
       "      <td>123.151731</td>\n",
       "    </tr>\n",
       "    <tr>\n",
       "      <th>20</th>\n",
       "      <td>123.556439</td>\n",
       "    </tr>\n",
       "    <tr>\n",
       "      <th>21</th>\n",
       "      <td>124.857228</td>\n",
       "    </tr>\n",
       "    <tr>\n",
       "      <th>22</th>\n",
       "      <td>125.578075</td>\n",
       "    </tr>\n",
       "    <tr>\n",
       "      <th>23</th>\n",
       "      <td>126.205449</td>\n",
       "    </tr>\n",
       "    <tr>\n",
       "      <th>24</th>\n",
       "      <td>128.177897</td>\n",
       "    </tr>\n",
       "    <tr>\n",
       "      <th>25</th>\n",
       "      <td>131.114500</td>\n",
       "    </tr>\n",
       "    <tr>\n",
       "      <th>26</th>\n",
       "      <td>130.263068</td>\n",
       "    </tr>\n",
       "    <tr>\n",
       "      <th>27</th>\n",
       "      <td>129.235525</td>\n",
       "    </tr>\n",
       "    <tr>\n",
       "      <th>28</th>\n",
       "      <td>126.162556</td>\n",
       "    </tr>\n",
       "    <tr>\n",
       "      <th>29</th>\n",
       "      <td>124.795962</td>\n",
       "    </tr>\n",
       "    <tr>\n",
       "      <th>30</th>\n",
       "      <td>126.189346</td>\n",
       "    </tr>\n",
       "  </tbody>\n",
       "</table>\n",
       "</div>"
      ],
      "text/plain": [
       "    Ridge Predicted\n",
       "0        125.946272\n",
       "1        127.454415\n",
       "2        126.553795\n",
       "3        126.883403\n",
       "4        125.912587\n",
       "5        124.356412\n",
       "6        124.213751\n",
       "7        124.977126\n",
       "8        125.783760\n",
       "9        126.302583\n",
       "10       124.703880\n",
       "11       126.168338\n",
       "12       126.143818\n",
       "13       123.344460\n",
       "14       123.793452\n",
       "15       123.196894\n",
       "16       124.990960\n",
       "17       126.385222\n",
       "18       126.668789\n",
       "19       123.151731\n",
       "20       123.556439\n",
       "21       124.857228\n",
       "22       125.578075\n",
       "23       126.205449\n",
       "24       128.177897\n",
       "25       131.114500\n",
       "26       130.263068\n",
       "27       129.235525\n",
       "28       126.162556\n",
       "29       124.795962\n",
       "30       126.189346"
      ]
     },
     "execution_count": 41,
     "metadata": {},
     "output_type": "execute_result"
    }
   ],
   "source": [
    "#Predict Closing Price, y2, using Ridge Regression Model\n",
    "y2 = clf.predict(X)\n",
    "y2\n",
    "\n",
    "#Convert array to dataframe\n",
    "Ridge = pd.DataFrame(y2, columns=['Ridge Predicted'])\n",
    "Ridge.head(31)\n",
    "\n",
    "#On Day 0 (15-Nov-17), predicted Closing Price is $125.94. The actual Closing Price is $126.80.\n",
    "#On Day 10 (2-Nov-17), predicted Closing Price is $124.70. The actual Closing Price is $126.40.\n",
    "#On Day 20 (18-Oct-17), predicted Closing Price is $123.56. The actual Closing Price is $124.30.\n",
    "#On Day 30 (4-Oct-17), predicted Closing Price is $126.19. The actual Closing Price is $125.15."
   ]
  },
  {
   "cell_type": "code",
   "execution_count": 40,
   "metadata": {
    "collapsed": false
   },
   "outputs": [],
   "source": [
    "#Save Ridge Regression DF to CSV\n",
    "Ridge.to_csv('Ridge.csv')"
   ]
  },
  {
   "cell_type": "code",
   "execution_count": 42,
   "metadata": {
    "collapsed": false
   },
   "outputs": [
    {
     "data": {
      "text/html": [
       "<div>\n",
       "<table border=\"1\" class=\"dataframe\">\n",
       "  <thead>\n",
       "    <tr style=\"text-align: right;\">\n",
       "      <th></th>\n",
       "      <th>Date</th>\n",
       "      <th>Closing</th>\n",
       "      <th>Open</th>\n",
       "      <th>High</th>\n",
       "      <th>Low</th>\n",
       "      <th>LR Predicted</th>\n",
       "      <th>DT Regr Predicted</th>\n",
       "      <th>AdaBoost Predicted</th>\n",
       "      <th>Ridge Predicted</th>\n",
       "    </tr>\n",
       "  </thead>\n",
       "  <tbody>\n",
       "    <tr>\n",
       "      <th>0</th>\n",
       "      <td>15-Nov-17</td>\n",
       "      <td>126.80</td>\n",
       "      <td>126.85</td>\n",
       "      <td>127.53</td>\n",
       "      <td>126.28</td>\n",
       "      <td>125.946209</td>\n",
       "      <td>126.80</td>\n",
       "      <td>126.718889</td>\n",
       "      <td>125.946272</td>\n",
       "    </tr>\n",
       "    <tr>\n",
       "      <th>1</th>\n",
       "      <td>14-Nov-17</td>\n",
       "      <td>127.05</td>\n",
       "      <td>127.55</td>\n",
       "      <td>129.00</td>\n",
       "      <td>124.25</td>\n",
       "      <td>127.454415</td>\n",
       "      <td>127.05</td>\n",
       "      <td>127.254545</td>\n",
       "      <td>127.454415</td>\n",
       "    </tr>\n",
       "    <tr>\n",
       "      <th>2</th>\n",
       "      <td>13-Nov-17</td>\n",
       "      <td>127.60</td>\n",
       "      <td>127.50</td>\n",
       "      <td>128.15</td>\n",
       "      <td>126.65</td>\n",
       "      <td>126.553729</td>\n",
       "      <td>127.60</td>\n",
       "      <td>126.718889</td>\n",
       "      <td>126.553795</td>\n",
       "    </tr>\n",
       "    <tr>\n",
       "      <th>3</th>\n",
       "      <td>10-Nov-17</td>\n",
       "      <td>127.55</td>\n",
       "      <td>126.05</td>\n",
       "      <td>128.35</td>\n",
       "      <td>125.50</td>\n",
       "      <td>126.883475</td>\n",
       "      <td>127.55</td>\n",
       "      <td>126.209661</td>\n",
       "      <td>126.883403</td>\n",
       "    </tr>\n",
       "    <tr>\n",
       "      <th>4</th>\n",
       "      <td>9-Nov-17</td>\n",
       "      <td>126.40</td>\n",
       "      <td>125.55</td>\n",
       "      <td>127.40</td>\n",
       "      <td>125.00</td>\n",
       "      <td>125.912623</td>\n",
       "      <td>126.40</td>\n",
       "      <td>125.969611</td>\n",
       "      <td>125.912587</td>\n",
       "    </tr>\n",
       "    <tr>\n",
       "      <th>5</th>\n",
       "      <td>8-Nov-17</td>\n",
       "      <td>125.75</td>\n",
       "      <td>125.05</td>\n",
       "      <td>125.90</td>\n",
       "      <td>124.20</td>\n",
       "      <td>124.356366</td>\n",
       "      <td>125.75</td>\n",
       "      <td>124.382836</td>\n",
       "      <td>124.356412</td>\n",
       "    </tr>\n",
       "    <tr>\n",
       "      <th>6</th>\n",
       "      <td>7-Nov-17</td>\n",
       "      <td>124.70</td>\n",
       "      <td>125.50</td>\n",
       "      <td>125.80</td>\n",
       "      <td>123.10</td>\n",
       "      <td>124.213658</td>\n",
       "      <td>124.70</td>\n",
       "      <td>124.514756</td>\n",
       "      <td>124.213751</td>\n",
       "    </tr>\n",
       "    <tr>\n",
       "      <th>7</th>\n",
       "      <td>6-Nov-17</td>\n",
       "      <td>125.55</td>\n",
       "      <td>123.95</td>\n",
       "      <td>126.40</td>\n",
       "      <td>122.25</td>\n",
       "      <td>124.977213</td>\n",
       "      <td>125.55</td>\n",
       "      <td>124.310816</td>\n",
       "      <td>124.977126</td>\n",
       "    </tr>\n",
       "    <tr>\n",
       "      <th>8</th>\n",
       "      <td>3-Nov-17</td>\n",
       "      <td>123.95</td>\n",
       "      <td>127.15</td>\n",
       "      <td>127.40</td>\n",
       "      <td>126.25</td>\n",
       "      <td>125.783661</td>\n",
       "      <td>123.95</td>\n",
       "      <td>126.718889</td>\n",
       "      <td>125.783760</td>\n",
       "    </tr>\n",
       "    <tr>\n",
       "      <th>9</th>\n",
       "      <td>2-Nov-17</td>\n",
       "      <td>126.40</td>\n",
       "      <td>123.35</td>\n",
       "      <td>127.60</td>\n",
       "      <td>122.55</td>\n",
       "      <td>126.302820</td>\n",
       "      <td>126.40</td>\n",
       "      <td>124.716800</td>\n",
       "      <td>126.302583</td>\n",
       "    </tr>\n",
       "    <tr>\n",
       "      <th>10</th>\n",
       "      <td>1-Nov-17</td>\n",
       "      <td>122.95</td>\n",
       "      <td>124.70</td>\n",
       "      <td>126.20</td>\n",
       "      <td>121.20</td>\n",
       "      <td>124.703887</td>\n",
       "      <td>122.95</td>\n",
       "      <td>124.514756</td>\n",
       "      <td>124.703880</td>\n",
       "    </tr>\n",
       "  </tbody>\n",
       "</table>\n",
       "</div>"
      ],
      "text/plain": [
       "         Date  Closing    Open    High     Low  LR Predicted  \\\n",
       "0   15-Nov-17   126.80  126.85  127.53  126.28    125.946209   \n",
       "1   14-Nov-17   127.05  127.55  129.00  124.25    127.454415   \n",
       "2   13-Nov-17   127.60  127.50  128.15  126.65    126.553729   \n",
       "3   10-Nov-17   127.55  126.05  128.35  125.50    126.883475   \n",
       "4    9-Nov-17   126.40  125.55  127.40  125.00    125.912623   \n",
       "5    8-Nov-17   125.75  125.05  125.90  124.20    124.356366   \n",
       "6    7-Nov-17   124.70  125.50  125.80  123.10    124.213658   \n",
       "7    6-Nov-17   125.55  123.95  126.40  122.25    124.977213   \n",
       "8    3-Nov-17   123.95  127.15  127.40  126.25    125.783661   \n",
       "9    2-Nov-17   126.40  123.35  127.60  122.55    126.302820   \n",
       "10   1-Nov-17   122.95  124.70  126.20  121.20    124.703887   \n",
       "\n",
       "    DT Regr Predicted  AdaBoost Predicted  Ridge Predicted  \n",
       "0              126.80          126.718889       125.946272  \n",
       "1              127.05          127.254545       127.454415  \n",
       "2              127.60          126.718889       126.553795  \n",
       "3              127.55          126.209661       126.883403  \n",
       "4              126.40          125.969611       125.912587  \n",
       "5              125.75          124.382836       124.356412  \n",
       "6              124.70          124.514756       124.213751  \n",
       "7              125.55          124.310816       124.977126  \n",
       "8              123.95          126.718889       125.783760  \n",
       "9              126.40          124.716800       126.302583  \n",
       "10             122.95          124.514756       124.703880  "
      ]
     },
     "execution_count": 42,
     "metadata": {},
     "output_type": "execute_result"
    }
   ],
   "source": [
    "#Let's combine all the Predicted Values from the Linear Regression, Decision Tree Regression, AdaBoost \n",
    "#and Ridge Regression into one data frame along with the Actual Values for the Closing Price.\n",
    "\n",
    "combined = [df, LR, DTRegression, AdaBoost, Ridge]\n",
    "result = pd.concat(combined, axis=1)\n",
    "result.head(11)"
   ]
  },
  {
   "cell_type": "code",
   "execution_count": 43,
   "metadata": {
    "collapsed": false
   },
   "outputs": [
    {
     "name": "stdout",
     "output_type": "stream",
     "text": [
      "\n",
      "\n",
      "Linear Regression Mean Percent Prediction Error:\n",
      "-9.736545893801515e-05\n",
      "\n",
      "\n",
      "Decision Tree Regression Mean Percent Prediction Error:\n",
      "-5.421444828311267e-06\n",
      "\n",
      "\n",
      "AdaBoost Mean Percent Prediction Error:\n",
      "0.004451496050555237\n",
      "\n",
      "\n",
      "Ridge Regression Mean Percent Prediction Error:\n",
      "-9.738373776640024e-05\n"
     ]
    }
   ],
   "source": [
    "#Now that we've looked at all the models' predicted values, let's calculate percent prediction errors.\n",
    "\n",
    "#% Prediction error = [(measured value - predicted value) / (measured value )] * 100\n",
    "#'Closing' is the measured value in the 'result' dataframe above\n",
    "\n",
    "LR_acc = (result['Closing'] - result['LR Predicted'] ) / result['Closing']\n",
    "DTR_acc = (result['Closing'] - result['DT Regr Predicted'] ) / result['Closing']\n",
    "ADA_acc = (result['Closing'] - result['AdaBoost Predicted'])/ result['Closing']\n",
    "Ridge_acc = (result['Closing'] - result['Ridge Predicted'] ) / result['Closing']\n",
    "\n",
    "print(\"\\n\\nLinear Regression Mean Percent Prediction Error:\")\n",
    "LR = LR_acc.mean()\n",
    "print(LR)\n",
    "\n",
    "print(\"\\n\\nDecision Tree Regression Mean Percent Prediction Error:\")\n",
    "DTR = DTR_acc.mean()\n",
    "print(DTR)\n",
    "\n",
    "print(\"\\n\\nAdaBoost Mean Percent Prediction Error:\")\n",
    "ADA = ADA_acc.mean()\n",
    "print(ADA)\n",
    "\n",
    "\n",
    "print(\"\\n\\nRidge Regression Mean Percent Prediction Error:\")\n",
    "Ridge = Ridge_acc.mean()\n",
    "print(Ridge)"
   ]
  },
  {
   "cell_type": "code",
   "execution_count": 45,
   "metadata": {
    "collapsed": false
   },
   "outputs": [
    {
     "data": {
      "image/png": "[encoded data removed]",
      "text/plain": [
       "<matplotlib.figure.Figure at 0xfa26668>"
      ]
     },
     "metadata": {},
     "output_type": "display_data"
    }
   ],
   "source": [
    "#Plot Classifier Percent Prediction Errors. All classifiers have less than 1% error which makes them pretty super\n",
    "#classifiers.\n",
    "\n",
    "import numpy as np\n",
    "import matplotlib.pyplot as plt\n",
    "from matplotlib.pyplot import *\n",
    "\n",
    "labels = ['Linear Regression', 'Decision Tree Regression', 'AdaBoost', \n",
    " 'Ridge']\n",
    "#Rotate Labels to make them readable\n",
    "plt.xticks(fontsize=12, rotation=45)\n",
    "plt.yticks(fontsize=12)\n",
    "#add data\n",
    "#Note the negative value (direction of error is not important so these values have been changed to positive.)\n",
    "data = [0.00009736, 0.00000542, 0.00328, 0.00009738]\n",
    "\n",
    "xlocations = np.array(range(len(data)))+0.5\n",
    "width = 0.25\n",
    "bar(xlocations, data, width=width, color='blue')\n",
    "yticks(fontsize=12)\n",
    "xticks(xlocations+ width/2, labels, fontsize=12)\n",
    "xlim(0, xlocations[-1]+width*2)\n",
    "\n",
    "#Set limit to y axis\n",
    "plt.ylim(ymax = 0.01, ymin=0)\n",
    "#Add title to plot\n",
    "title('Coffee Future Closing Price Prediction Error', fontsize=16)\n",
    "plt.xlabel(\"Type of Algorithm\",fontsize=14)\n",
    "plt.ylabel(\"Percent Prediction Error\",fontsize=14)\n",
    "gca().get_xaxis().tick_bottom()\n",
    "gca().get_yaxis().tick_left()\n",
    "show()"
   ]
  },
  {
   "cell_type": "code",
   "execution_count": 48,
   "metadata": {
    "collapsed": false
   },
   "outputs": [
    {
     "data": {
      "image/png": "[encoded data removed]",
      "text/plain": [
       "<matplotlib.figure.Figure at 0x111be940>"
      ]
     },
     "metadata": {},
     "output_type": "display_data"
    }
   ],
   "source": [
    "#Plot Classifier Goodness of Fit Results - Linear Regression, Decision Tree, Adaboost and Ridge Regression.\n",
    "\n",
    "import numpy as np\n",
    "import matplotlib.pyplot as plt\n",
    "from matplotlib.pyplot import *\n",
    "\n",
    "labels = ['Linear Regression', 'Decision Tree Regression', 'AdaBoost', \n",
    " 'Ridge']\n",
    "#Rotate Labels to make them readable\n",
    "plt.xticks(rotation=45)\n",
    "#add data\n",
    "data = [0.996, 0.799,0.749, 0.996]\n",
    "\n",
    "xlocations = np.array(range(len(data)))+0.5\n",
    "width = 0.25\n",
    "bar(xlocations, data, width=width, color='blue')\n",
    "yticks(fontsize=12)\n",
    "xticks(xlocations+ width/2, labels, fontsize=12)\n",
    "xlim(0, xlocations[-1]+width*2)\n",
    "\n",
    "#Set limit to y axis\n",
    "plt.ylim(ymax = 1.0, ymin=0.7)\n",
    "#Add title to plot\n",
    "plt.title('Goodness of Classifier Fit', fontsize=16)\n",
    "plt.xlabel(\"Type of Algorithm\",fontsize=14)\n",
    "plt.ylabel(\"Percent Prediction Error\",fontsize=14)\n",
    "gca().get_xaxis().tick_bottom()\n",
    "gca().get_yaxis().tick_left()\n",
    "show()\n",
    "\n",
    "# Linear Regression & Ridge Regression have the highest R2 (goodness of fit). AdaBoost has the lowest R2 so it is \n",
    "# the worse fit model. "
   ]
  },
  {
   "cell_type": "code",
   "execution_count": null,
   "metadata": {
    "collapsed": true
   },
   "outputs": [],
   "source": []
  }
 ],
 "metadata": {
  "kernelspec": {
   "display_name": "Python 3",
   "language": "python",
   "name": "python3"
  },
  "language_info": {
   "codemirror_mode": {
    "name": "ipython",
    "version": 3
   },
   "file_extension": ".py",
   "mimetype": "text/x-python",
   "name": "python",
   "nbconvert_exporter": "python",
   "pygments_lexer": "ipython3",
   "version": "3.5.4"
  }
 },
 "nbformat": 4,
 "nbformat_minor": 2
}
